{
  "nbformat": 4,
  "nbformat_minor": 0,
  "metadata": {
    "colab": {
      "provenance": []
    },
    "kernelspec": {
      "name": "python3",
      "display_name": "Python 3"
    },
    "language_info": {
      "name": "python"
    }
  },
  "cells": [
    {
      "cell_type": "code",
      "source": [
        "x = \"Bismillah\"\n",
        "y = 90\n",
        "z = True"
      ],
      "metadata": {
        "id": "cs8jdDyvjxHt"
      },
      "execution_count": 29,
      "outputs": []
    },
    {
      "cell_type": "code",
      "source": [
        "type(y)"
      ],
      "metadata": {
        "colab": {
          "base_uri": "https://localhost:8080/"
        },
        "id": "dZ4mHrBcj51u",
        "outputId": "d395aea1-e260-4eca-fc7e-6a5edfc635ea"
      },
      "execution_count": 30,
      "outputs": [
        {
          "output_type": "execute_result",
          "data": {
            "text/plain": [
              "int"
            ]
          },
          "metadata": {},
          "execution_count": 30
        }
      ]
    },
    {
      "cell_type": "code",
      "source": [
        "x=y=z=\"Bismillah\",10,True"
      ],
      "metadata": {
        "id": "zgdYAOr_iI1e"
      },
      "execution_count": 31,
      "outputs": []
    },
    {
      "cell_type": "code",
      "source": [
        "print(x[0])"
      ],
      "metadata": {
        "colab": {
          "base_uri": "https://localhost:8080/"
        },
        "id": "WKB8xRjhiI5t",
        "outputId": "ce2019b1-1e3c-402c-b3c7-c05d15e72e6d"
      },
      "execution_count": 32,
      "outputs": [
        {
          "output_type": "stream",
          "name": "stdout",
          "text": [
            "Bismillah\n"
          ]
        }
      ]
    },
    {
      "cell_type": "code",
      "source": [
        "type(x)"
      ],
      "metadata": {
        "colab": {
          "base_uri": "https://localhost:8080/"
        },
        "id": "mvHJ3rJ9jtE1",
        "outputId": "3765d9cc-1015-428a-e110-35367935502d"
      },
      "execution_count": 33,
      "outputs": [
        {
          "output_type": "execute_result",
          "data": {
            "text/plain": [
              "tuple"
            ]
          },
          "metadata": {},
          "execution_count": 33
        }
      ]
    },
    {
      "cell_type": "code",
      "source": [
        "type(x)"
      ],
      "metadata": {
        "colab": {
          "base_uri": "https://localhost:8080/"
        },
        "id": "nwj5xkOyiI9O",
        "outputId": "7b535621-2505-43b3-cd3c-7287ffa1e94f"
      },
      "execution_count": 34,
      "outputs": [
        {
          "output_type": "execute_result",
          "data": {
            "text/plain": [
              "tuple"
            ]
          },
          "metadata": {},
          "execution_count": 34
        }
      ]
    },
    {
      "cell_type": "code",
      "source": [
        "my_list = [value for value in range(10)]"
      ],
      "metadata": {
        "id": "7-uS-1w9hRK2"
      },
      "execution_count": 35,
      "outputs": []
    },
    {
      "cell_type": "code",
      "source": [
        "my_list"
      ],
      "metadata": {
        "colab": {
          "base_uri": "https://localhost:8080/"
        },
        "id": "U2sZ0eablyJ2",
        "outputId": "34719131-92b0-4f36-aa5f-5e72461fa18b"
      },
      "execution_count": 36,
      "outputs": [
        {
          "output_type": "execute_result",
          "data": {
            "text/plain": [
              "[0, 1, 2, 3, 4, 5, 6, 7, 8, 9]"
            ]
          },
          "metadata": {},
          "execution_count": 36
        }
      ]
    },
    {
      "cell_type": "code",
      "source": [
        "len(my_list)"
      ],
      "metadata": {
        "colab": {
          "base_uri": "https://localhost:8080/"
        },
        "id": "phUUQ8gfmJ46",
        "outputId": "536c539d-ff99-461a-ab58-eb0d6e34bde5"
      },
      "execution_count": 37,
      "outputs": [
        {
          "output_type": "execute_result",
          "data": {
            "text/plain": [
              "10"
            ]
          },
          "metadata": {},
          "execution_count": 37
        }
      ]
    },
    {
      "cell_type": "code",
      "source": [
        "dict_ = {key: value for  key, value in[['Apple', 12],['Banana',12],[\"Orange\",24]]}"
      ],
      "metadata": {
        "id": "XVloqHHVt9X_"
      },
      "execution_count": 38,
      "outputs": []
    },
    {
      "cell_type": "code",
      "source": [
        "dict_"
      ],
      "metadata": {
        "colab": {
          "base_uri": "https://localhost:8080/"
        },
        "id": "kd_9yCB7t_6F",
        "outputId": "b649924c-6a5d-4348-f3ce-9444bf5e53bc"
      },
      "execution_count": 39,
      "outputs": [
        {
          "output_type": "execute_result",
          "data": {
            "text/plain": [
              "{'Apple': 12, 'Banana': 12, 'Orange': 24}"
            ]
          },
          "metadata": {},
          "execution_count": 39
        }
      ]
    },
    {
      "cell_type": "code",
      "source": [
        "dict_['Orange']"
      ],
      "metadata": {
        "colab": {
          "base_uri": "https://localhost:8080/"
        },
        "id": "LnMdMuXWuAch",
        "outputId": "0fbb1e8a-abdb-4462-c9ff-8d4dee0fbf2b"
      },
      "execution_count": 40,
      "outputs": [
        {
          "output_type": "execute_result",
          "data": {
            "text/plain": [
              "24"
            ]
          },
          "metadata": {},
          "execution_count": 40
        }
      ]
    },
    {
      "cell_type": "code",
      "source": [
        "len(dict_)"
      ],
      "metadata": {
        "colab": {
          "base_uri": "https://localhost:8080/"
        },
        "id": "uPjoRz5GuApp",
        "outputId": "365e2ca9-7a56-4465-defd-e2a33aeb458c"
      },
      "execution_count": 41,
      "outputs": [
        {
          "output_type": "execute_result",
          "data": {
            "text/plain": [
              "3"
            ]
          },
          "metadata": {},
          "execution_count": 41
        }
      ]
    },
    {
      "cell_type": "code",
      "source": [
        "dict_['Peach'] = 36"
      ],
      "metadata": {
        "id": "7XrJUxn2uA2a"
      },
      "execution_count": 42,
      "outputs": []
    },
    {
      "cell_type": "code",
      "source": [
        "dict_"
      ],
      "metadata": {
        "colab": {
          "base_uri": "https://localhost:8080/"
        },
        "id": "24xgzQKpuBPV",
        "outputId": "23174f82-0173-4a1a-c1dc-5279472d4a40"
      },
      "execution_count": 43,
      "outputs": [
        {
          "output_type": "execute_result",
          "data": {
            "text/plain": [
              "{'Apple': 12, 'Banana': 12, 'Orange': 24, 'Peach': 36}"
            ]
          },
          "metadata": {},
          "execution_count": 43
        }
      ]
    },
    {
      "cell_type": "code",
      "source": [
        "veg ={'Potato' : 12,'tomato' : 24,'Peach': 29}"
      ],
      "metadata": {
        "id": "KmuSyh8JuBsH"
      },
      "execution_count": 44,
      "outputs": []
    },
    {
      "cell_type": "code",
      "source": [
        "veg"
      ],
      "metadata": {
        "colab": {
          "base_uri": "https://localhost:8080/"
        },
        "id": "ixBNN3yRyIs8",
        "outputId": "176a5354-6e7a-4837-84c7-3b8e0430081c"
      },
      "execution_count": 45,
      "outputs": [
        {
          "output_type": "execute_result",
          "data": {
            "text/plain": [
              "{'Potato': 12, 'tomato': 24, 'Peach': 29}"
            ]
          },
          "metadata": {},
          "execution_count": 45
        }
      ]
    },
    {
      "cell_type": "code",
      "source": [
        "dict_.update(veg)"
      ],
      "metadata": {
        "id": "91CUwzpXyJDr"
      },
      "execution_count": 46,
      "outputs": []
    },
    {
      "cell_type": "code",
      "source": [
        "dict_"
      ],
      "metadata": {
        "colab": {
          "base_uri": "https://localhost:8080/"
        },
        "id": "jmWVTVUAyJLk",
        "outputId": "3e79ef9a-2105-4cfe-bf39-a72293fe6c96"
      },
      "execution_count": 47,
      "outputs": [
        {
          "output_type": "execute_result",
          "data": {
            "text/plain": [
              "{'Apple': 12,\n",
              " 'Banana': 12,\n",
              " 'Orange': 24,\n",
              " 'Peach': 29,\n",
              " 'Potato': 12,\n",
              " 'tomato': 24}"
            ]
          },
          "metadata": {},
          "execution_count": 47
        }
      ]
    },
    {
      "cell_type": "code",
      "source": [
        "dict_.pop('Peach')"
      ],
      "metadata": {
        "colab": {
          "base_uri": "https://localhost:8080/"
        },
        "id": "YQi1XU3VyJTw",
        "outputId": "4697a476-f0f8-4628-a59f-ee1753b4521b"
      },
      "execution_count": 48,
      "outputs": [
        {
          "output_type": "execute_result",
          "data": {
            "text/plain": [
              "29"
            ]
          },
          "metadata": {},
          "execution_count": 48
        }
      ]
    },
    {
      "cell_type": "code",
      "source": [
        "my_tuple =('Naeem','True',23,23.5,False)"
      ],
      "metadata": {
        "id": "PS1h_8fvyJcJ"
      },
      "execution_count": 49,
      "outputs": []
    },
    {
      "cell_type": "code",
      "source": [
        "my_tuple[0]"
      ],
      "metadata": {
        "colab": {
          "base_uri": "https://localhost:8080/",
          "height": 36
        },
        "id": "17GvMRwp0k45",
        "outputId": "b1d1a7f5-e957-4299-b07b-72b6c667f346"
      },
      "execution_count": 50,
      "outputs": [
        {
          "output_type": "execute_result",
          "data": {
            "text/plain": [
              "'Naeem'"
            ],
            "application/vnd.google.colaboratory.intrinsic+json": {
              "type": "string"
            }
          },
          "metadata": {},
          "execution_count": 50
        }
      ]
    },
    {
      "cell_type": "code",
      "source": [
        "name =\"Naeem Ahmed Memon\"\n",
        "age = 42"
      ],
      "metadata": {
        "id": "sLW8_L5n0lRr"
      },
      "execution_count": 51,
      "outputs": []
    },
    {
      "cell_type": "code",
      "source": [
        "my_set = set()\n",
        "my_set ={1,2,3,4,5}\n",
        "my_set.add(6)\n",
        "my_set"
      ],
      "metadata": {
        "colab": {
          "base_uri": "https://localhost:8080/"
        },
        "id": "JzRabhgn0ly5",
        "outputId": "f873b252-dbe5-4b83-9bf2-839e670f690f"
      },
      "execution_count": 52,
      "outputs": [
        {
          "output_type": "execute_result",
          "data": {
            "text/plain": [
              "{1, 2, 3, 4, 5, 6}"
            ]
          },
          "metadata": {},
          "execution_count": 52
        }
      ]
    },
    {
      "cell_type": "code",
      "source": [
        "x ={1,2,3,4}\n",
        "y ={1,4,2,3}\n",
        "z ={8,7,3,9}"
      ],
      "metadata": {
        "id": "S_DBpnn90l_O"
      },
      "execution_count": 53,
      "outputs": []
    },
    {
      "cell_type": "code",
      "source": [
        "x.union(z)"
      ],
      "metadata": {
        "colab": {
          "base_uri": "https://localhost:8080/"
        },
        "id": "WWOuIT_T0mHL",
        "outputId": "e77531ac-bfd8-4879-8eaa-ea8b4161d718"
      },
      "execution_count": 54,
      "outputs": [
        {
          "output_type": "execute_result",
          "data": {
            "text/plain": [
              "{1, 2, 3, 4, 7, 8, 9}"
            ]
          },
          "metadata": {},
          "execution_count": 54
        }
      ]
    },
    {
      "cell_type": "code",
      "source": [
        "x.issubset(y)"
      ],
      "metadata": {
        "colab": {
          "base_uri": "https://localhost:8080/"
        },
        "id": "ED2n6uLh8JyS",
        "outputId": "5523ca7d-e8fa-4315-801a-5d674ed96727"
      },
      "execution_count": 55,
      "outputs": [
        {
          "output_type": "execute_result",
          "data": {
            "text/plain": [
              "True"
            ]
          },
          "metadata": {},
          "execution_count": 55
        }
      ]
    },
    {
      "cell_type": "code",
      "source": [
        "xx = 0\n",
        "yy = 90"
      ],
      "metadata": {
        "id": "NI0c8f8t8J-N"
      },
      "execution_count": 17,
      "outputs": []
    },
    {
      "cell_type": "code",
      "source": [
        "if xx == yy:\n",
        "  print('xx is equal to yy')\n",
        "else:\n",
        "    print('xx is not equal to yy')"
      ],
      "metadata": {
        "id": "yfFdtE-L8KKi",
        "colab": {
          "base_uri": "https://localhost:8080/"
        },
        "outputId": "fc35b581-f494-4014-d18a-9012f69afac6"
      },
      "execution_count": 13,
      "outputs": [
        {
          "output_type": "stream",
          "name": "stdout",
          "text": [
            "xx is not equal to yy\n"
          ]
        }
      ]
    },
    {
      "cell_type": "code",
      "source": [
        "if xx%2==0:\n",
        "  print('even')\n",
        "elif xx%2 !=0:\n",
        "  print('odd')\n",
        "else:\n",
        "  print('its zero no')\n"
      ],
      "metadata": {
        "id": "eA3AAfnu8KXv",
        "colab": {
          "base_uri": "https://localhost:8080/"
        },
        "outputId": "afdcef3b-67f7-4267-8d6a-6120601b9437"
      },
      "execution_count": 18,
      "outputs": [
        {
          "output_type": "stream",
          "name": "stdout",
          "text": [
            "even\n"
          ]
        }
      ]
    },
    {
      "cell_type": "code",
      "source": [],
      "metadata": {
        "id": "JpaY9VDb8KjI"
      },
      "execution_count": 55,
      "outputs": []
    }
  ]
}